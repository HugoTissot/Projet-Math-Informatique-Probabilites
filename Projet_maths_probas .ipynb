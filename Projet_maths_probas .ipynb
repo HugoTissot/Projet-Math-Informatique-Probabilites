{
 "cells": [
  {
   "cell_type": "markdown",
   "metadata": {},
   "source": [
    "# Projet numérique: câble sous-marin "
   ]
  },
  {
   "cell_type": "markdown",
   "metadata": {},
   "source": [
    "### Hugo TISSOT - Victor GAUTIER "
   ]
  },
  {
   "cell_type": "markdown",
   "metadata": {},
   "source": [
    "## I) Partie théorique "
   ]
  },
  {
   "cell_type": "markdown",
   "metadata": {},
   "source": [
    "## II) Simulation numérique \n"
   ]
  },
  {
   "cell_type": "code",
   "execution_count": 45,
   "metadata": {},
   "outputs": [],
   "source": [
    "#Chargement de dépendances\n",
    "import numpy as np\n",
    "import matplotlib.pyplot as plt\n",
    "\n",
    "#Discrétisation \n",
    "A=0 \n",
    "B=500 \n",
    "N=101 \n",
    "\n",
    "#Nombre de points de discrétisation \n",
    "Delta = (B-A)/(N-1) \n",
    "discretization_indexes = np.arange(N) \n",
    "discretization = discretization_indexes*Delta \n",
    "\n",
    "#Paramètres du modèle\n",
    "mu=-5 \n",
    "a = 50 \n",
    "sigma2 = 12\n",
    "\n",
    "#Données\n",
    "observation_indexes = [0,20,40,60,80,100] \n",
    "depth = np.array([0,-4,-12.8,-1,-6.5,0])\n",
    "\n",
    "#Indices des composantes correspondant aux observations et aux componsantes non observées\n",
    "unknown_indexes=list(set(discretization_indexes)-set(observation_indexes))\n"
   ]
  },
  {
   "cell_type": "markdown",
   "metadata": {},
   "source": [
    "### 1. La fonction covariance "
   ]
  },
  {
   "cell_type": "code",
   "execution_count": 53,
   "metadata": {},
   "outputs": [],
   "source": [
    "# Cette fonction renvoie la matrice de covariance obtenue à partir d'une matrice de points  \n",
    "def covariance(distance,a=50,sigma2=12):\n",
    "    Cov=np.zeros(distance.shape)\n",
    "    for i in range (distance.shape[0]):\n",
    "        for j in range (distance.shape[1]):\n",
    "            Cov[i][j]=sigma2*np.exp(-abs(distance[i][j])/a)     \n",
    "    return Cov \n",
    "              "
   ]
  },
  {
   "cell_type": "markdown",
   "metadata": {},
   "source": [
    "### 2. Calcul de la matrice de distance "
   ]
  },
  {
   "cell_type": "code",
   "execution_count": 54,
   "metadata": {},
   "outputs": [],
   "source": [
    "def mat_distance(lis_points1,lis_points2):#On prévoit le fait que la matrice de distance n'est pas nécessairement carrée\n",
    "    l1=len(lis_points1)\n",
    "    l2=len(lis_points2)\n",
    "    Distance=np.zeros((l1,l2))\n",
    "    for i in range(l1):\n",
    "        for j in range(l2):\n",
    "            Distance[i][j]=abs(lis_points1[i]-lis_points2[j])\n",
    "    return Distance\n",
    "                               "
   ]
  },
  {
   "cell_type": "markdown",
   "metadata": {},
   "source": [
    "### 3. Calcul de la matrice de covariance du vecteur Z = ( Z($x_{0}$),...,Z($x_{N}$) )"
   ]
  },
  {
   "cell_type": "code",
   "execution_count": 55,
   "metadata": {},
   "outputs": [
    {
     "data": {
      "text/plain": [
       "array([[1.20000000e+01, 1.08580490e+01, 9.82476904e+00, ...,\n",
       "        6.65419193e-04, 6.02096185e-04, 5.44799157e-04],\n",
       "       [1.08580490e+01, 1.20000000e+01, 1.08580490e+01, ...,\n",
       "        7.35401941e-04, 6.65419193e-04, 6.02096185e-04],\n",
       "       [9.82476904e+00, 1.08580490e+01, 1.20000000e+01, ...,\n",
       "        8.12744838e-04, 7.35401941e-04, 6.65419193e-04],\n",
       "       ...,\n",
       "       [6.65419193e-04, 7.35401941e-04, 8.12744838e-04, ...,\n",
       "        1.20000000e+01, 1.08580490e+01, 9.82476904e+00],\n",
       "       [6.02096185e-04, 6.65419193e-04, 7.35401941e-04, ...,\n",
       "        1.08580490e+01, 1.20000000e+01, 1.08580490e+01],\n",
       "       [5.44799157e-04, 6.02096185e-04, 6.65419193e-04, ...,\n",
       "        9.82476904e+00, 1.08580490e+01, 1.20000000e+01]])"
      ]
     },
     "execution_count": 55,
     "metadata": {},
     "output_type": "execute_result"
    }
   ],
   "source": [
    "covariance(mat_distance(discretization,discretization))"
   ]
  },
  {
   "cell_type": "markdown",
   "metadata": {},
   "source": [
    "### 4. Extraction des matrices de covariance "
   ]
  },
  {
   "cell_type": "code",
   "execution_count": 56,
   "metadata": {},
   "outputs": [
    {
     "data": {
      "text/plain": [
       "array([[1.20000000e+01, 1.62402340e+00, 2.19787667e-01, 2.97450261e-02,\n",
       "        4.02555153e-03, 5.44799157e-04],\n",
       "       [1.62402340e+00, 1.20000000e+01, 1.62402340e+00, 2.19787667e-01,\n",
       "        2.97450261e-02, 4.02555153e-03],\n",
       "       [2.19787667e-01, 1.62402340e+00, 1.20000000e+01, 1.62402340e+00,\n",
       "        2.19787667e-01, 2.97450261e-02],\n",
       "       [2.97450261e-02, 2.19787667e-01, 1.62402340e+00, 1.20000000e+01,\n",
       "        1.62402340e+00, 2.19787667e-01],\n",
       "       [4.02555153e-03, 2.97450261e-02, 2.19787667e-01, 1.62402340e+00,\n",
       "        1.20000000e+01, 1.62402340e+00],\n",
       "       [5.44799157e-04, 4.02555153e-03, 2.97450261e-02, 2.19787667e-01,\n",
       "        1.62402340e+00, 1.20000000e+01]])"
      ]
     },
     "execution_count": 56,
     "metadata": {},
     "output_type": "execute_result"
    }
   ],
   "source": [
    "# entre les observations \n",
    "observation=np.array(observation_indexes)*Delta \n",
    "covariance(mat_distance(observation,observation))"
   ]
  },
  {
   "cell_type": "code",
   "execution_count": 57,
   "metadata": {},
   "outputs": [
    {
     "data": {
      "text/plain": [
       "array([[1.20000000e+01, 1.08580490e+01, 9.82476904e+00, ...,\n",
       "        8.12744838e-04, 7.35401941e-04, 6.65419193e-04],\n",
       "       [1.08580490e+01, 1.20000000e+01, 1.08580490e+01, ...,\n",
       "        8.98221959e-04, 8.12744838e-04, 7.35401941e-04],\n",
       "       [9.82476904e+00, 1.08580490e+01, 1.20000000e+01, ...,\n",
       "        9.92688787e-04, 8.98221959e-04, 8.12744838e-04],\n",
       "       ...,\n",
       "       [8.12744838e-04, 8.98221959e-04, 9.92688787e-04, ...,\n",
       "        1.20000000e+01, 1.08580490e+01, 9.82476904e+00],\n",
       "       [7.35401941e-04, 8.12744838e-04, 8.98221959e-04, ...,\n",
       "        1.08580490e+01, 1.20000000e+01, 1.08580490e+01],\n",
       "       [6.65419193e-04, 7.35401941e-04, 8.12744838e-04, ...,\n",
       "        9.82476904e+00, 1.08580490e+01, 1.20000000e+01]])"
      ]
     },
     "execution_count": 57,
     "metadata": {},
     "output_type": "execute_result"
    }
   ],
   "source": [
    "# entre les inconnues \n",
    "unknown=np.array(unknown_indexes)*Delta \n",
    "covariance(mat_distance(unknown,unknown))"
   ]
  },
  {
   "cell_type": "code",
   "execution_count": 59,
   "metadata": {},
   "outputs": [
    {
     "data": {
      "text/plain": [
       "array([[1.08580490e+01, 1.79482343e+00, 2.42902937e-01, 3.28733378e-02,\n",
       "        4.44892249e-03, 6.02096185e-04],\n",
       "       [9.82476904e+00, 1.98358666e+00, 2.68449262e-01, 3.63306569e-02,\n",
       "        4.91681975e-03, 6.65419193e-04],\n",
       "       [8.88981865e+00, 2.19220229e+00, 2.96682318e-01, 4.01515855e-02,\n",
       "        5.43392619e-03, 7.35401941e-04],\n",
       "       [8.04384055e+00, 2.42275822e+00, 3.27884669e-01, 4.43743646e-02,\n",
       "        6.00541720e-03, 8.12744838e-04],\n",
       "       [7.27836792e+00, 2.67756192e+00, 3.62368601e-01, 4.90412573e-02,\n",
       "        6.63701244e-03, 8.98221959e-04],\n",
       "       [6.58573963e+00, 2.95916357e+00, 4.00479240e-01, 5.41989713e-02,\n",
       "        7.33503313e-03, 9.92688787e-04],\n",
       "       [5.95902365e+00, 3.27038152e+00, 4.42598009e-01, 5.98991269e-02,\n",
       "        8.10646530e-03, 1.09709078e-03],\n",
       "       [5.39194757e+00, 3.61433054e+00, 4.89146448e-01, 6.61987730e-02,\n",
       "        8.95902970e-03, 1.21247282e-03],\n",
       "       [4.87883592e+00, 3.99445300e+00, 5.40590429e-01, 7.31609588e-02,\n",
       "        9.90125908e-03, 1.33998970e-03],\n",
       "       [4.41455329e+00, 4.41455329e+00, 5.97444820e-01, 8.08553640e-02,\n",
       "        1.09425836e-02, 1.48091765e-03],\n",
       "       [3.99445300e+00, 4.87883592e+00, 6.60278641e-01, 8.93589969e-02,\n",
       "        1.20934251e-02, 1.63666712e-03],\n",
       "       [3.61433054e+00, 5.39194757e+00, 7.29720752e-01, 9.87569646e-02,\n",
       "        1.33653018e-02, 1.80879690e-03],\n",
       "       [3.27038152e+00, 5.95902365e+00, 8.06466153e-01, 1.09143325e-01,\n",
       "        1.47709428e-02, 1.99902973e-03],\n",
       "       [2.95916357e+00, 6.58573963e+00, 8.91282939e-01, 1.20622029e-01,\n",
       "        1.63244165e-02, 2.20926952e-03],\n",
       "       [2.67756192e+00, 7.27836792e+00, 9.85019983e-01, 1.33307958e-01,\n",
       "        1.80412703e-02, 2.44162043e-03],\n",
       "       [2.42275822e+00, 8.04384055e+00, 1.08861544e+00, 1.47328079e-01,\n",
       "        1.99386873e-02, 2.69840789e-03],\n",
       "       [2.19220229e+00, 8.88981865e+00, 1.20310612e+00, 1.62822708e-01,\n",
       "        2.20356573e-02, 2.98220193e-03],\n",
       "       [1.98358666e+00, 9.82476904e+00, 1.32963790e+00, 1.79946922e-01,\n",
       "        2.43531676e-02, 3.29584284e-03],\n",
       "       [1.79482343e+00, 1.08580490e+01, 1.46947714e+00, 1.98872105e-01,\n",
       "        2.69144126e-02, 3.64246966e-03],\n",
       "       [1.46947714e+00, 1.08580490e+01, 1.79482343e+00, 2.42902937e-01,\n",
       "        3.28733378e-02, 4.44892249e-03],\n",
       "       [1.32963790e+00, 9.82476904e+00, 1.98358666e+00, 2.68449262e-01,\n",
       "        3.63306569e-02, 4.91681975e-03],\n",
       "       [1.20310612e+00, 8.88981865e+00, 2.19220229e+00, 2.96682318e-01,\n",
       "        4.01515855e-02, 5.43392619e-03],\n",
       "       [1.08861544e+00, 8.04384055e+00, 2.42275822e+00, 3.27884669e-01,\n",
       "        4.43743646e-02, 6.00541720e-03],\n",
       "       [9.85019983e-01, 7.27836792e+00, 2.67756192e+00, 3.62368601e-01,\n",
       "        4.90412573e-02, 6.63701244e-03],\n",
       "       [8.91282939e-01, 6.58573963e+00, 2.95916357e+00, 4.00479240e-01,\n",
       "        5.41989713e-02, 7.33503313e-03],\n",
       "       [8.06466153e-01, 5.95902365e+00, 3.27038152e+00, 4.42598009e-01,\n",
       "        5.98991269e-02, 8.10646530e-03],\n",
       "       [7.29720752e-01, 5.39194757e+00, 3.61433054e+00, 4.89146448e-01,\n",
       "        6.61987730e-02, 8.95902970e-03],\n",
       "       [6.60278641e-01, 4.87883592e+00, 3.99445300e+00, 5.40590429e-01,\n",
       "        7.31609588e-02, 9.90125908e-03],\n",
       "       [5.97444820e-01, 4.41455329e+00, 4.41455329e+00, 5.97444820e-01,\n",
       "        8.08553640e-02, 1.09425836e-02],\n",
       "       [5.40590429e-01, 3.99445300e+00, 4.87883592e+00, 6.60278641e-01,\n",
       "        8.93589969e-02, 1.20934251e-02],\n",
       "       [4.89146448e-01, 3.61433054e+00, 5.39194757e+00, 7.29720752e-01,\n",
       "        9.87569646e-02, 1.33653018e-02],\n",
       "       [4.42598009e-01, 3.27038152e+00, 5.95902365e+00, 8.06466153e-01,\n",
       "        1.09143325e-01, 1.47709428e-02],\n",
       "       [4.00479240e-01, 2.95916357e+00, 6.58573963e+00, 8.91282939e-01,\n",
       "        1.20622029e-01, 1.63244165e-02],\n",
       "       [3.62368601e-01, 2.67756192e+00, 7.27836792e+00, 9.85019983e-01,\n",
       "        1.33307958e-01, 1.80412703e-02],\n",
       "       [3.27884669e-01, 2.42275822e+00, 8.04384055e+00, 1.08861544e+00,\n",
       "        1.47328079e-01, 1.99386873e-02],\n",
       "       [2.96682318e-01, 2.19220229e+00, 8.88981865e+00, 1.20310612e+00,\n",
       "        1.62822708e-01, 2.20356573e-02],\n",
       "       [2.68449262e-01, 1.98358666e+00, 9.82476904e+00, 1.32963790e+00,\n",
       "        1.79946922e-01, 2.43531676e-02],\n",
       "       [2.42902937e-01, 1.79482343e+00, 1.08580490e+01, 1.46947714e+00,\n",
       "        1.98872105e-01, 2.69144126e-02],\n",
       "       [1.98872105e-01, 1.46947714e+00, 1.08580490e+01, 1.79482343e+00,\n",
       "        2.42902937e-01, 3.28733378e-02],\n",
       "       [1.79946922e-01, 1.32963790e+00, 9.82476904e+00, 1.98358666e+00,\n",
       "        2.68449262e-01, 3.63306569e-02],\n",
       "       [1.62822708e-01, 1.20310612e+00, 8.88981865e+00, 2.19220229e+00,\n",
       "        2.96682318e-01, 4.01515855e-02],\n",
       "       [1.47328079e-01, 1.08861544e+00, 8.04384055e+00, 2.42275822e+00,\n",
       "        3.27884669e-01, 4.43743646e-02],\n",
       "       [1.33307958e-01, 9.85019983e-01, 7.27836792e+00, 2.67756192e+00,\n",
       "        3.62368601e-01, 4.90412573e-02],\n",
       "       [1.20622029e-01, 8.91282939e-01, 6.58573963e+00, 2.95916357e+00,\n",
       "        4.00479240e-01, 5.41989713e-02],\n",
       "       [1.09143325e-01, 8.06466153e-01, 5.95902365e+00, 3.27038152e+00,\n",
       "        4.42598009e-01, 5.98991269e-02],\n",
       "       [9.87569646e-02, 7.29720752e-01, 5.39194757e+00, 3.61433054e+00,\n",
       "        4.89146448e-01, 6.61987730e-02],\n",
       "       [8.93589969e-02, 6.60278641e-01, 4.87883592e+00, 3.99445300e+00,\n",
       "        5.40590429e-01, 7.31609588e-02],\n",
       "       [8.08553640e-02, 5.97444820e-01, 4.41455329e+00, 4.41455329e+00,\n",
       "        5.97444820e-01, 8.08553640e-02],\n",
       "       [7.31609588e-02, 5.40590429e-01, 3.99445300e+00, 4.87883592e+00,\n",
       "        6.60278641e-01, 8.93589969e-02],\n",
       "       [6.61987730e-02, 4.89146448e-01, 3.61433054e+00, 5.39194757e+00,\n",
       "        7.29720752e-01, 9.87569646e-02],\n",
       "       [5.98991269e-02, 4.42598009e-01, 3.27038152e+00, 5.95902365e+00,\n",
       "        8.06466153e-01, 1.09143325e-01],\n",
       "       [5.41989713e-02, 4.00479240e-01, 2.95916357e+00, 6.58573963e+00,\n",
       "        8.91282939e-01, 1.20622029e-01],\n",
       "       [4.90412573e-02, 3.62368601e-01, 2.67756192e+00, 7.27836792e+00,\n",
       "        9.85019983e-01, 1.33307958e-01],\n",
       "       [4.43743646e-02, 3.27884669e-01, 2.42275822e+00, 8.04384055e+00,\n",
       "        1.08861544e+00, 1.47328079e-01],\n",
       "       [4.01515855e-02, 2.96682318e-01, 2.19220229e+00, 8.88981865e+00,\n",
       "        1.20310612e+00, 1.62822708e-01],\n",
       "       [3.63306569e-02, 2.68449262e-01, 1.98358666e+00, 9.82476904e+00,\n",
       "        1.32963790e+00, 1.79946922e-01],\n",
       "       [3.28733378e-02, 2.42902937e-01, 1.79482343e+00, 1.08580490e+01,\n",
       "        1.46947714e+00, 1.98872105e-01],\n",
       "       [2.69144126e-02, 1.98872105e-01, 1.46947714e+00, 1.08580490e+01,\n",
       "        1.79482343e+00, 2.42902937e-01],\n",
       "       [2.43531676e-02, 1.79946922e-01, 1.32963790e+00, 9.82476904e+00,\n",
       "        1.98358666e+00, 2.68449262e-01],\n",
       "       [2.20356573e-02, 1.62822708e-01, 1.20310612e+00, 8.88981865e+00,\n",
       "        2.19220229e+00, 2.96682318e-01],\n",
       "       [1.99386873e-02, 1.47328079e-01, 1.08861544e+00, 8.04384055e+00,\n",
       "        2.42275822e+00, 3.27884669e-01],\n",
       "       [1.80412703e-02, 1.33307958e-01, 9.85019983e-01, 7.27836792e+00,\n",
       "        2.67756192e+00, 3.62368601e-01],\n",
       "       [1.63244165e-02, 1.20622029e-01, 8.91282939e-01, 6.58573963e+00,\n",
       "        2.95916357e+00, 4.00479240e-01],\n",
       "       [1.47709428e-02, 1.09143325e-01, 8.06466153e-01, 5.95902365e+00,\n",
       "        3.27038152e+00, 4.42598009e-01],\n",
       "       [1.33653018e-02, 9.87569646e-02, 7.29720752e-01, 5.39194757e+00,\n",
       "        3.61433054e+00, 4.89146448e-01],\n",
       "       [1.20934251e-02, 8.93589969e-02, 6.60278641e-01, 4.87883592e+00,\n",
       "        3.99445300e+00, 5.40590429e-01],\n",
       "       [1.09425836e-02, 8.08553640e-02, 5.97444820e-01, 4.41455329e+00,\n",
       "        4.41455329e+00, 5.97444820e-01],\n",
       "       [9.90125908e-03, 7.31609588e-02, 5.40590429e-01, 3.99445300e+00,\n",
       "        4.87883592e+00, 6.60278641e-01],\n",
       "       [8.95902970e-03, 6.61987730e-02, 4.89146448e-01, 3.61433054e+00,\n",
       "        5.39194757e+00, 7.29720752e-01],\n",
       "       [8.10646530e-03, 5.98991269e-02, 4.42598009e-01, 3.27038152e+00,\n",
       "        5.95902365e+00, 8.06466153e-01],\n",
       "       [7.33503313e-03, 5.41989713e-02, 4.00479240e-01, 2.95916357e+00,\n",
       "        6.58573963e+00, 8.91282939e-01],\n",
       "       [6.63701244e-03, 4.90412573e-02, 3.62368601e-01, 2.67756192e+00,\n",
       "        7.27836792e+00, 9.85019983e-01],\n",
       "       [6.00541720e-03, 4.43743646e-02, 3.27884669e-01, 2.42275822e+00,\n",
       "        8.04384055e+00, 1.08861544e+00],\n",
       "       [5.43392619e-03, 4.01515855e-02, 2.96682318e-01, 2.19220229e+00,\n",
       "        8.88981865e+00, 1.20310612e+00],\n",
       "       [4.91681975e-03, 3.63306569e-02, 2.68449262e-01, 1.98358666e+00,\n",
       "        9.82476904e+00, 1.32963790e+00],\n",
       "       [4.44892249e-03, 3.28733378e-02, 2.42902937e-01, 1.79482343e+00,\n",
       "        1.08580490e+01, 1.46947714e+00],\n",
       "       [3.64246966e-03, 2.69144126e-02, 1.98872105e-01, 1.46947714e+00,\n",
       "        1.08580490e+01, 1.79482343e+00],\n",
       "       [3.29584284e-03, 2.43531676e-02, 1.79946922e-01, 1.32963790e+00,\n",
       "        9.82476904e+00, 1.98358666e+00],\n",
       "       [2.98220193e-03, 2.20356573e-02, 1.62822708e-01, 1.20310612e+00,\n",
       "        8.88981865e+00, 2.19220229e+00],\n",
       "       [2.69840789e-03, 1.99386873e-02, 1.47328079e-01, 1.08861544e+00,\n",
       "        8.04384055e+00, 2.42275822e+00],\n",
       "       [2.44162043e-03, 1.80412703e-02, 1.33307958e-01, 9.85019983e-01,\n",
       "        7.27836792e+00, 2.67756192e+00],\n",
       "       [2.20926952e-03, 1.63244165e-02, 1.20622029e-01, 8.91282939e-01,\n",
       "        6.58573963e+00, 2.95916357e+00],\n",
       "       [1.99902973e-03, 1.47709428e-02, 1.09143325e-01, 8.06466153e-01,\n",
       "        5.95902365e+00, 3.27038152e+00],\n",
       "       [1.80879690e-03, 1.33653018e-02, 9.87569646e-02, 7.29720752e-01,\n",
       "        5.39194757e+00, 3.61433054e+00],\n",
       "       [1.63666712e-03, 1.20934251e-02, 8.93589969e-02, 6.60278641e-01,\n",
       "        4.87883592e+00, 3.99445300e+00],\n",
       "       [1.48091765e-03, 1.09425836e-02, 8.08553640e-02, 5.97444820e-01,\n",
       "        4.41455329e+00, 4.41455329e+00],\n",
       "       [1.33998970e-03, 9.90125908e-03, 7.31609588e-02, 5.40590429e-01,\n",
       "        3.99445300e+00, 4.87883592e+00],\n",
       "       [1.21247282e-03, 8.95902970e-03, 6.61987730e-02, 4.89146448e-01,\n",
       "        3.61433054e+00, 5.39194757e+00],\n",
       "       [1.09709078e-03, 8.10646530e-03, 5.98991269e-02, 4.42598009e-01,\n",
       "        3.27038152e+00, 5.95902365e+00],\n",
       "       [9.92688787e-04, 7.33503313e-03, 5.41989713e-02, 4.00479240e-01,\n",
       "        2.95916357e+00, 6.58573963e+00],\n",
       "       [8.98221959e-04, 6.63701244e-03, 4.90412573e-02, 3.62368601e-01,\n",
       "        2.67756192e+00, 7.27836792e+00],\n",
       "       [8.12744838e-04, 6.00541720e-03, 4.43743646e-02, 3.27884669e-01,\n",
       "        2.42275822e+00, 8.04384055e+00],\n",
       "       [7.35401941e-04, 5.43392619e-03, 4.01515855e-02, 2.96682318e-01,\n",
       "        2.19220229e+00, 8.88981865e+00],\n",
       "       [6.65419193e-04, 4.91681975e-03, 3.63306569e-02, 2.68449262e-01,\n",
       "        1.98358666e+00, 9.82476904e+00],\n",
       "       [6.02096185e-04, 4.44892249e-03, 3.28733378e-02, 2.42902937e-01,\n",
       "        1.79482343e+00, 1.08580490e+01]])"
      ]
     },
     "execution_count": 59,
     "metadata": {},
     "output_type": "execute_result"
    }
   ],
   "source": [
    "# entre et les observations et les inconnues \n",
    "covariance(mat_distance(unknown,observation))"
   ]
  },
  {
   "cell_type": "markdown",
   "metadata": {},
   "source": [
    "### 5. Calcul de l’espérance conditionnelle des composantes non observées connaissant les observations "
   ]
  },
  {
   "cell_type": "markdown",
   "metadata": {},
   "source": [
    "$\\text{On note } Inc \\text{ le vecteur aléatoire des inconnues et } Obs \\text{ le vecteur aléatoire des observations.}\\\\\n",
    "\\text{D'après le cours, l'espérance conditionnelle de } Inc \\text{ sachant } Obs \\text{ est la variable aléatoire: }\\\\\n",
    "\\mathbb{E}(Inc|Obs)=\\mathbb{E}(Inc)+Cov(Inc,Obs)\\,Cov(Obs,Obs)^{-1}(Obs-\\mathbb{E}(Obs))$"
   ]
  },
  {
   "cell_type": "code",
   "execution_count": 77,
   "metadata": {},
   "outputs": [
    {
     "name": "stdout",
     "output_type": "stream",
     "text": [
      "[ -0.46688335  -0.88839774  -1.26876184  -1.61178245  -1.92089264\n",
      "  -2.19918609  -2.44944805  -2.67418323  -2.87564085  -3.05583718\n",
      "  -3.21657567  -3.35946505  -3.4859354   -3.59725249  -3.69453041\n",
      "  -3.77874275  -3.85073233  -3.91121966  -3.96081011  -4.31432093\n",
      "  -4.62177936  -4.92545243  -5.2283794   -5.53359206  -5.8441451\n",
      "  -6.16314662  -6.49378931  -6.83938234  -7.20338453  -7.58943893\n",
      "  -8.00140931  -8.4434188   -8.91989118  -9.43559515  -9.99569205\n",
      " -10.60578751 -11.27198758 -12.00095981 -11.91810571 -11.10545015\n",
      " -10.35389999  -9.65593346  -9.00456508  -8.39327573  -7.81594742\n",
      "  -7.26680206  -6.74034362  -6.23130312  -5.73458592  -5.2452207\n",
      "  -4.75830973  -4.26897984  -3.77233366  -3.26340058  -2.73708703\n",
      "  -2.18812549  -1.61102176  -1.43702815  -1.83839689  -2.20812324\n",
      "  -2.54990754  -2.8671705   -3.16308739  -3.44061983  -3.70254547\n",
      "  -3.95148576  -4.18993216  -4.42027113  -4.64480797  -4.86578994\n",
      "  -5.08542869  -5.30592243  -5.52947795  -5.75833267  -5.99477703\n",
      "  -6.24117745  -6.21355942  -5.93926455  -5.67437016  -5.41622509\n",
      "  -5.16224574  -4.9098902   -4.65663281  -4.39993889  -4.13723936\n",
      "  -3.86590502  -3.58322028  -3.28635594  -2.97234087  -2.6380323\n",
      "  -2.28008437  -1.89491461  -1.47866811  -1.02717893  -0.53592843]\n"
     ]
    }
   ],
   "source": [
    "esp_obs=np.array([mu for k in range(depth.shape[0])])\n",
    "esp_inc=np.array([mu for k in range(len(unknown_indexes))])\n",
    "cov_inc_obs=covariance(mat_distance(unknown,observation))\n",
    "cov_obs=covariance(mat_distance(observation,observation))\n",
    "obs=depth\n",
    "# On utilise la formule précédente \n",
    "esp_inc_sachant_obs=esp_inc+cov_inc_obs.dot(np.linalg.inv(cov_obs)).dot(depth-esp_obs)\n",
    "print(esp_inc_sachant_obs)"
   ]
  },
  {
   "cell_type": "code",
   "execution_count": 78,
   "metadata": {},
   "outputs": [
    {
     "data": {
      "image/png": "[encoded data removed]",
      "text/plain": [
       "<Figure size 432x288 with 1 Axes>"
      ]
     },
     "metadata": {
      "needs_background": "light"
     },
     "output_type": "display_data"
    }
   ],
   "source": [
    "# Représentation graphique \n",
    "plt.plot(unknown,esp_inc_sachant_obs)\n",
    "plt.xlabel('Position des points non observés')\n",
    "plt.ylabel('Espérance conditionnelle')\n",
    "plt.show()"
   ]
  },
  {
   "cell_type": "markdown",
   "metadata": {},
   "source": [
    "### 6. Calcul de la matrice de variance conditionnelle "
   ]
  },
  {
   "cell_type": "markdown",
   "metadata": {},
   "source": [
    "$\\text{D'après le cours, la matrice de variance conditionnelle de } Inc \\text{ sachant } Obs \\text { est : }\\\\\n",
    "Var\\,(Inc|Obs)=Cov(Inc,Inc) - Cov(Inc,Obs)\\,Cov(Obs,Obs)^{-1}\\,Cov(Obs,Inc)$"
   ]
  },
  {
   "cell_type": "code",
   "execution_count": null,
   "metadata": {},
   "outputs": [],
   "source": [
    "cov_obs_inc=covariance(mat_distance(observation,unknown))\n",
    "cov_inc=covariance(mat_distance(unknown,unknown))\n",
    "# Avec la formule précédente,on calcule la variance conditionnelle des points inconnus, \n",
    "var_inc_sachant_obs=cov_inc-cov_inc_obs.dot(np.linalg.inv(cov_obs)).dot(cov_obs_inc)\n",
    "print(var_inc_sachant_obs)"
   ]
  },
  {
   "cell_type": "code",
   "execution_count": null,
   "metadata": {},
   "outputs": [],
   "source": [
    "# Représentation de la diagonale en fonction de la position \n",
    "diagonale=np.array([var_inc_sachant_obs[i][i] for i in range(len(var_inc_sachant_obs))])\n",
    "plt.plot(discretization, var_tot)\n",
    "# On rajoute les points observés dont la variance conditionnelle est nulle, \n",
    "var_tot=[(0 if i%20 == 0 else diagonale[i - (i//20 + 1)]) for i in range (N)]\n",
    "plt.xlabel('Position des points')\n",
    "plt.ylabel('Variance conditionnelle')\n",
    "plt.show()"
   ]
  },
  {
   "cell_type": "markdown",
   "metadata": {},
   "source": [
    "### 7. Simulation conditionnelle "
   ]
  },
  {
   "cell_type": "code",
   "execution_count": null,
   "metadata": {},
   "outputs": [],
   "source": [
    "# On utilse la méthode de Box-Muller \n",
    "def boxMuller():\n",
    "    Y=np.zeros(len(unknown_indexes))\n",
    "    U=np.zeros(len(unknown_indexes))\n",
    "    V=np.zeros(len(unknown_indexes))\n",
    "    for k in range(len(unknown_indexes)):\n",
    "        U[k] = (random.random()-random.random()+1)/2 # On veut générer un nombre aléatoire dans ]0,1[ et non [0,1[\n",
    "        V[k] = (random.random()-random.random()+1)/2 \n",
    "    Y = np.sqrt(-2*np.log(U))*np.cos(2*np.pi*V)\n",
    "    R = np.linalg.cholesky(var_inc_sachant_obs)\n",
    "    Z= (mu + R.dot(Y)).tolist()\n",
    "    Z_simulation = [0] + Z[0:19] + [-4] + Z[19:38] + [-12.8] + Z[38:57] + [-1] + Z[57:76] + [-6.5] + Z[76:95] + [0]\n",
    "    return Z_simulation \n"
   ]
  },
  {
   "cell_type": "code",
   "execution_count": null,
   "metadata": {},
   "outputs": [],
   "source": [
    "# Représentation graphique \n",
    "plt.plot(discretization, Z, label=\"Points simulés\")\n",
    "plt.plot(observation, depth, 'rx', label='Points observés')\n",
    "plt.plot(unknown,esp_inc_sachant_obs, label='Esperance conditionnelle')\n",
    "plt.legend()\n",
    "plt.show()"
   ]
  },
  {
   "cell_type": "markdown",
   "metadata": {},
   "source": []
  },
  {
   "cell_type": "markdown",
   "metadata": {},
   "source": [
    "### 8. Calcul de la longueur du câble "
   ]
  },
  {
   "cell_type": "code",
   "execution_count": null,
   "metadata": {},
   "outputs": [],
   "source": [
    "def long_cable(vect_profondeur, pas) :\n",
    "    L = 0\n",
    "    l= vect_profondeur.shape[0]\n",
    "    \n",
    "    for i in range(1,l) :\n",
    "        L += np.sqrt(pas**2 + (vect_profondeur[i] - vect_profondeur[i-1])**2)\n",
    "    return L"
   ]
  },
  {
   "cell_type": "markdown",
   "metadata": {},
   "source": [
    "### 9. Calcul longueur de câble pour 100 simulations "
   ]
  },
  {
   "cell_type": "code",
   "execution_count": null,
   "metadata": {},
   "outputs": [],
   "source": [
    "longueurs=[]\n",
    "for i in range(100):\n",
    "    l=long_cable(boxMuller(),Delta)\n",
    "    longueurs.append(l)\n",
    "print(f\"L'espérance conditionnelle (estimée) de la longueur vaut: {sum(longeurs)/100}\")\n",
    "\n",
    "\n",
    "print(f\"La longueur de l'espérance conditionnelle vaut:{long_cable(esp_inc_sachant_obs,Delta)}\")\n"
   ]
  },
  {
   "cell_type": "markdown",
   "metadata": {},
   "source": [
    "On remarque que le longueur de l'espérance conditionnelle est plus petite que l'espérance conditionnelle de la longueur. "
   ]
  },
  {
   "cell_type": "markdown",
   "metadata": {},
   "source": [
    "### 10. Représentation de la suite $M_{n}$ des moyennes des longueurs de câble "
   ]
  },
  {
   "cell_type": "code",
   "execution_count": null,
   "metadata": {},
   "outputs": [],
   "source": [
    "les_moy=[]\n",
    "les_simul=np.arange(1,201) #doute sur l'arange \n",
    "for n in range(1,201):\n",
    "    longueurs=[]\n",
    "    for i in range(n):\n",
    "        l=long_cable(boxMuller(),Delta)\n",
    "        longueurs.append(l)\n",
    "    les_moy.append(sum(longueurs)/n)\n",
    "\n",
    "plt.plot(les_simul,les_moy)\n",
    "plt.xlabel(\"Nombre de simulations\")\n",
    "plt.ylabel(\"Moyennes des longueurs de cable\")\n",
    "plt.show()\n",
    "\n",
    "    "
   ]
  },
  {
   "cell_type": "markdown",
   "metadata": {},
   "source": [
    "Commentaire?"
   ]
  }
 ],
 "metadata": {
  "kernelspec": {
   "display_name": "Python 3",
   "language": "python",
   "name": "python3"
  },
  "language_info": {
   "codemirror_mode": {
    "name": "ipython",
    "version": 3
   },
   "file_extension": ".py",
   "mimetype": "text/x-python",
   "name": "python",
   "nbconvert_exporter": "python",
   "pygments_lexer": "ipython3",
   "version": "3.7.4"
  }
 },
 "nbformat": 4,
 "nbformat_minor": 2
}
