{
 "cells": [
  {
   "cell_type": "markdown",
   "metadata": {},
   "source": [
    "# Projet numérique: câble sous-marin "
   ]
  },
  {
   "cell_type": "markdown",
   "metadata": {},
   "source": [
    "### Hugo TISSOT - Victor GAUTIER "
   ]
  },
  {
   "cell_type": "markdown",
   "metadata": {},
   "source": [
    "## I) Partie théorique "
   ]
  },
  {
   "cell_type": "markdown",
   "metadata": {},
   "source": [
    "#### Question 1\n",
    "\n",
    "On utilise ici la méthode de Monte-Carlo pour estimer L*, la valabilité de cette dernière résulte de la loi forte des grands nombres.\n",
    "\n",
    "Rappelons cette dernière :\n",
    "\n",
    "Soit $(X_n)$ une suite de variables aléatoires indépendantes, de même lois, et intégrables\n",
    "Alors la suite $(M_n)$ définie par\n",
    "\n",
    "$M_n = \\frac{X_1+.......+X_n}{n}$\n",
    "\n",
    "converge vers $\\mathbb{E}(X_n)$ presque sûrement et en moyenne quand n tend vers l'infini.\n",
    "\n",
    "Dans le cadre de ce projet cette loi s'applique car chaque $l(k)$ pour tout k $\\in \\{1,...,K\\}$ sont indépendantes de par l'indépendance de chaque simulation, suivent la même loi que la variable aléatoire $L|Z(x_{j1})=z(x_{j1}),....,Z(x_{jn}=z(x_{jn})$ et sont intégrables car bornés puisque $L$ est bornée.\n",
    "\n",
    "Ainsi en supposant $K$ suffisament grand on sait que la moyenne des $l(k)$ sera une bonne estimation de $L*$ "
   ]
  },
  {
   "cell_type": "markdown",
   "metadata": {},
   "source": [
    "#### Question 2\n",
    "\n",
    "On considérera d'une part les profondeurs des points pour lesquels on détient une mesure représentées par la variable aléatoire $Y = (Z(x_{j1}),..,Z(x_{jn}))$ et celles pour lesquels on ne détient aucune mesure, elles sont $N+1-n$ représentées par la variable aléatoire $X = (Z(x_i))$ pour $i \\in \\{0,...,N\\}\\setminus\\{j_1,...,j_n\\}$\n",
    "\n",
    "L'ensemble des profondeurs des points est donc décrit par la variable aléatoire $Z = (X,Y)$ (Ordre des composantes différent de celui de l'énoncé)\n",
    "\n",
    "En suivant donc la même méthode que celle présentée dans le paragraphe Vecteur Gaussiens à densité du polycopié IV de probabilité, on considère la matrice de covariance de $Z$ ci dessous :\n",
    "\n",
    "\\begin{pmatrix}\n",
    "C_X & C_{X,Y} \\\\\n",
    "C_{Y,X} & C_Y\n",
    "\\end{pmatrix}\n",
    "\n",
    "où $C_X$ et $C_Y$ sont les matrices de covariance respectives de $X$ et $Y$ et $C_{X,Y} = Cov(X,Y) C_{Y,X} = Cov(Y,X)$\n",
    "\n",
    "Ainsi la variable aléatoire $X|(Y=z)$ où $z = (z(x_{j1}),..,z(x_{jn}))$ suit une loi gausienne d'espérance \n",
    "$E = \\mathbb{E}(X) + C_{X,Y}C_Y^{-1}(z-\\mathbb{E}(Y))$ \n",
    "\n",
    "et de matrice de covariance $C_{X|Y=z} = C_X - C_{X,Y}C_Y^{-1}C_{Y,X}$\n",
    "\n",
    "\n"
   ]
  },
  {
   "cell_type": "markdown",
   "metadata": {},
   "source": [
    "#### Question 3\n",
    "\n",
    "Soit $A = (A_1,..,A_p)$ vecteur de composante gausienne indépendantes, toutes d'espérance nulle et de variance égale à 1, $R$ une matrice $p\\times p$ et $m$ un vecteur de taille $p$\n",
    "\n",
    "alors $B = m + RA$\n",
    "\n",
    "est un vecteur aléatoire gaussien comme combinaison linéaire de vecteurs aléatoires gaussiens, d'espérance $m$ (par linéarité de l'espérance) et de matrice de covariance $C=RR^{T}$ "
   ]
  },
  {
   "cell_type": "markdown",
   "metadata": {},
   "source": [
    "#### Question 4\n",
    "\n",
    "On a dans le cas pratique $Y=z$. Donc $Z=(X,z)$ (En s'accordant une liberté sur l'ordre des composantes du vecteur dans un premier temps)\n",
    "\n",
    "On sait que la variable aléatoire d'intérêt à savoir $X|(Y=z)$ suit une loi gaussienne d'espérance $m$, vecteur de N+1-n composantes toutes égales à $\\mu$ et de matrice de covariance $C_{X|(Y=z)}$ définie plus haut. On connait $\\mu$ et $C_{X|(Y=z)}$ car on connait $C$ dans le cadre de ce problème.\n",
    "\n",
    "On va alors réaliser une factorisation de Cholesky pour obtenir $R$ telle que $C_{X|(Y=z)} = RR^{T}$. On s'intéressera alors à la variable aléatoire $B = m + RA$ où $A$ sera une variable aléatoire suivant une loi normale centrée réduite que python peut simuler et on sait que B suit la même loi que $X|(Y=z)$ d'après la question précédente on peut donc dire que $Z=(B,z)$\n",
    "\n",
    "Enfin on calcule les $l(k)$ pour plusieurs simulations donnant à priori un $B$ différent et donc un $Z$ différent et on moyenne ces longueurs simulées pour déterminer $L*$ (méthode de Monte-Carlo)"
   ]
  },
  {
   "cell_type": "code",
   "execution_count": null,
   "metadata": {},
   "outputs": [],
   "source": []
  },
  {
   "cell_type": "markdown",
   "metadata": {},
   "source": [
    "## II) Simulation numérique \n"
   ]
  },
  {
   "cell_type": "code",
   "execution_count": 36,
   "metadata": {},
   "outputs": [],
   "source": [
    "#Importation de modules\n",
    "import numpy as np\n",
    "import matplotlib.pyplot as plt\n",
    "import random"
   ]
  },
  {
   "cell_type": "code",
   "execution_count": 11,
   "metadata": {},
   "outputs": [],
   "source": [
    "#Discrétisation \n",
    "A=0 \n",
    "B=500 \n",
    "N=101 \n",
    "\n",
    "#Nombre de points de discrétisation \n",
    "Delta = (B-A)/(N-1) \n",
    "discretization_indexes = np.arange(N) \n",
    "discretization = discretization_indexes*Delta \n",
    "\n",
    "#Paramètres du modèle\n",
    "mu=-5 \n",
    "a = 50 \n",
    "sigma2 = 12\n",
    "\n",
    "#Données\n",
    "observation_indexes = [0,20,40,60,80,100] \n",
    "depth = np.array([0,-4,-12.8,-1,-6.5,0])\n",
    "\n",
    "#Indices des composantes correspondant aux observations et aux componsantes non observées\n",
    "unknown_indexes=list(set(discretization_indexes)-set(observation_indexes))\n"
   ]
  },
  {
   "cell_type": "markdown",
   "metadata": {},
   "source": [
    "### 1. La fonction covariance "
   ]
  },
  {
   "cell_type": "code",
   "execution_count": 12,
   "metadata": {},
   "outputs": [],
   "source": [
    "# Cette fonction renvoie la matrice de covariance obtenue à partir d'une matrice de points  \n",
    "def covariance(distance,a=50,sigma2=12):\n",
    "    Cov=np.zeros(distance.shape)\n",
    "    for i in range (distance.shape[0]):\n",
    "        for j in range (distance.shape[1]):\n",
    "            Cov[i][j]=sigma2*np.exp(-abs(distance[i][j])/a)     \n",
    "    return Cov \n",
    "              "
   ]
  },
  {
   "cell_type": "markdown",
   "metadata": {},
   "source": [
    "### 2. Calcul de la matrice de distance "
   ]
  },
  {
   "cell_type": "code",
   "execution_count": 13,
   "metadata": {},
   "outputs": [],
   "source": [
    "def mat_distance(lis_points1,lis_points2):#On prévoit le fait que la matrice de distance n'est pas nécessairement carrée\n",
    "    l1=len(lis_points1)\n",
    "    l2=len(lis_points2)\n",
    "    Distance=np.zeros((l1,l2))\n",
    "    for i in range(l1):\n",
    "        for j in range(l2):\n",
    "            Distance[i][j]=abs(lis_points1[i]-lis_points2[j])\n",
    "    return Distance\n",
    "                               "
   ]
  },
  {
   "cell_type": "markdown",
   "metadata": {},
   "source": [
    "### 3. Calcul de la matrice de covariance du vecteur Z = ( Z($x_{0}$),...,Z($x_{N}$) )"
   ]
  },
  {
   "cell_type": "code",
   "execution_count": 14,
   "metadata": {},
   "outputs": [
    {
     "data": {
      "text/plain": [
       "array([[1.20000000e+01, 1.08580490e+01, 9.82476904e+00, ...,\n",
       "        6.65419193e-04, 6.02096185e-04, 5.44799157e-04],\n",
       "       [1.08580490e+01, 1.20000000e+01, 1.08580490e+01, ...,\n",
       "        7.35401941e-04, 6.65419193e-04, 6.02096185e-04],\n",
       "       [9.82476904e+00, 1.08580490e+01, 1.20000000e+01, ...,\n",
       "        8.12744838e-04, 7.35401941e-04, 6.65419193e-04],\n",
       "       ...,\n",
       "       [6.65419193e-04, 7.35401941e-04, 8.12744838e-04, ...,\n",
       "        1.20000000e+01, 1.08580490e+01, 9.82476904e+00],\n",
       "       [6.02096185e-04, 6.65419193e-04, 7.35401941e-04, ...,\n",
       "        1.08580490e+01, 1.20000000e+01, 1.08580490e+01],\n",
       "       [5.44799157e-04, 6.02096185e-04, 6.65419193e-04, ...,\n",
       "        9.82476904e+00, 1.08580490e+01, 1.20000000e+01]])"
      ]
     },
     "execution_count": 14,
     "metadata": {},
     "output_type": "execute_result"
    }
   ],
   "source": [
    "covariance(mat_distance(discretization,discretization))"
   ]
  },
  {
   "cell_type": "markdown",
   "metadata": {},
   "source": [
    "### 4. Extraction des matrices de covariance "
   ]
  },
  {
   "cell_type": "code",
   "execution_count": 15,
   "metadata": {},
   "outputs": [
    {
     "data": {
      "text/plain": [
       "array([[1.20000000e+01, 1.62402340e+00, 2.19787667e-01, 2.97450261e-02,\n",
       "        4.02555153e-03, 5.44799157e-04],\n",
       "       [1.62402340e+00, 1.20000000e+01, 1.62402340e+00, 2.19787667e-01,\n",
       "        2.97450261e-02, 4.02555153e-03],\n",
       "       [2.19787667e-01, 1.62402340e+00, 1.20000000e+01, 1.62402340e+00,\n",
       "        2.19787667e-01, 2.97450261e-02],\n",
       "       [2.97450261e-02, 2.19787667e-01, 1.62402340e+00, 1.20000000e+01,\n",
       "        1.62402340e+00, 2.19787667e-01],\n",
       "       [4.02555153e-03, 2.97450261e-02, 2.19787667e-01, 1.62402340e+00,\n",
       "        1.20000000e+01, 1.62402340e+00],\n",
       "       [5.44799157e-04, 4.02555153e-03, 2.97450261e-02, 2.19787667e-01,\n",
       "        1.62402340e+00, 1.20000000e+01]])"
      ]
     },
     "execution_count": 15,
     "metadata": {},
     "output_type": "execute_result"
    }
   ],
   "source": [
    "# entre les observations \n",
    "observation=np.array(observation_indexes)*Delta \n",
    "covariance(mat_distance(observation,observation))"
   ]
  },
  {
   "cell_type": "code",
   "execution_count": 16,
   "metadata": {},
   "outputs": [
    {
     "data": {
      "text/plain": [
       "array([[1.20000000e+01, 1.08580490e+01, 9.82476904e+00, ...,\n",
       "        8.12744838e-04, 7.35401941e-04, 6.65419193e-04],\n",
       "       [1.08580490e+01, 1.20000000e+01, 1.08580490e+01, ...,\n",
       "        8.98221959e-04, 8.12744838e-04, 7.35401941e-04],\n",
       "       [9.82476904e+00, 1.08580490e+01, 1.20000000e+01, ...,\n",
       "        9.92688787e-04, 8.98221959e-04, 8.12744838e-04],\n",
       "       ...,\n",
       "       [8.12744838e-04, 8.98221959e-04, 9.92688787e-04, ...,\n",
       "        1.20000000e+01, 1.08580490e+01, 9.82476904e+00],\n",
       "       [7.35401941e-04, 8.12744838e-04, 8.98221959e-04, ...,\n",
       "        1.08580490e+01, 1.20000000e+01, 1.08580490e+01],\n",
       "       [6.65419193e-04, 7.35401941e-04, 8.12744838e-04, ...,\n",
       "        9.82476904e+00, 1.08580490e+01, 1.20000000e+01]])"
      ]
     },
     "execution_count": 16,
     "metadata": {},
     "output_type": "execute_result"
    }
   ],
   "source": [
    "# entre les inconnues \n",
    "unknown=np.array(unknown_indexes)*Delta \n",
    "covariance(mat_distance(unknown,unknown))"
   ]
  },
  {
   "cell_type": "code",
   "execution_count": 17,
   "metadata": {},
   "outputs": [
    {
     "data": {
      "text/plain": [
       "array([[1.08580490e+01, 1.79482343e+00, 2.42902937e-01, 3.28733378e-02,\n",
       "        4.44892249e-03, 6.02096185e-04],\n",
       "       [9.82476904e+00, 1.98358666e+00, 2.68449262e-01, 3.63306569e-02,\n",
       "        4.91681975e-03, 6.65419193e-04],\n",
       "       [8.88981865e+00, 2.19220229e+00, 2.96682318e-01, 4.01515855e-02,\n",
       "        5.43392619e-03, 7.35401941e-04],\n",
       "       [8.04384055e+00, 2.42275822e+00, 3.27884669e-01, 4.43743646e-02,\n",
       "        6.00541720e-03, 8.12744838e-04],\n",
       "       [7.27836792e+00, 2.67756192e+00, 3.62368601e-01, 4.90412573e-02,\n",
       "        6.63701244e-03, 8.98221959e-04],\n",
       "       [6.58573963e+00, 2.95916357e+00, 4.00479240e-01, 5.41989713e-02,\n",
       "        7.33503313e-03, 9.92688787e-04],\n",
       "       [5.95902365e+00, 3.27038152e+00, 4.42598009e-01, 5.98991269e-02,\n",
       "        8.10646530e-03, 1.09709078e-03],\n",
       "       [5.39194757e+00, 3.61433054e+00, 4.89146448e-01, 6.61987730e-02,\n",
       "        8.95902970e-03, 1.21247282e-03],\n",
       "       [4.87883592e+00, 3.99445300e+00, 5.40590429e-01, 7.31609588e-02,\n",
       "        9.90125908e-03, 1.33998970e-03],\n",
       "       [4.41455329e+00, 4.41455329e+00, 5.97444820e-01, 8.08553640e-02,\n",
       "        1.09425836e-02, 1.48091765e-03],\n",
       "       [3.99445300e+00, 4.87883592e+00, 6.60278641e-01, 8.93589969e-02,\n",
       "        1.20934251e-02, 1.63666712e-03],\n",
       "       [3.61433054e+00, 5.39194757e+00, 7.29720752e-01, 9.87569646e-02,\n",
       "        1.33653018e-02, 1.80879690e-03],\n",
       "       [3.27038152e+00, 5.95902365e+00, 8.06466153e-01, 1.09143325e-01,\n",
       "        1.47709428e-02, 1.99902973e-03],\n",
       "       [2.95916357e+00, 6.58573963e+00, 8.91282939e-01, 1.20622029e-01,\n",
       "        1.63244165e-02, 2.20926952e-03],\n",
       "       [2.67756192e+00, 7.27836792e+00, 9.85019983e-01, 1.33307958e-01,\n",
       "        1.80412703e-02, 2.44162043e-03],\n",
       "       [2.42275822e+00, 8.04384055e+00, 1.08861544e+00, 1.47328079e-01,\n",
       "        1.99386873e-02, 2.69840789e-03],\n",
       "       [2.19220229e+00, 8.88981865e+00, 1.20310612e+00, 1.62822708e-01,\n",
       "        2.20356573e-02, 2.98220193e-03],\n",
       "       [1.98358666e+00, 9.82476904e+00, 1.32963790e+00, 1.79946922e-01,\n",
       "        2.43531676e-02, 3.29584284e-03],\n",
       "       [1.79482343e+00, 1.08580490e+01, 1.46947714e+00, 1.98872105e-01,\n",
       "        2.69144126e-02, 3.64246966e-03],\n",
       "       [1.46947714e+00, 1.08580490e+01, 1.79482343e+00, 2.42902937e-01,\n",
       "        3.28733378e-02, 4.44892249e-03],\n",
       "       [1.32963790e+00, 9.82476904e+00, 1.98358666e+00, 2.68449262e-01,\n",
       "        3.63306569e-02, 4.91681975e-03],\n",
       "       [1.20310612e+00, 8.88981865e+00, 2.19220229e+00, 2.96682318e-01,\n",
       "        4.01515855e-02, 5.43392619e-03],\n",
       "       [1.08861544e+00, 8.04384055e+00, 2.42275822e+00, 3.27884669e-01,\n",
       "        4.43743646e-02, 6.00541720e-03],\n",
       "       [9.85019983e-01, 7.27836792e+00, 2.67756192e+00, 3.62368601e-01,\n",
       "        4.90412573e-02, 6.63701244e-03],\n",
       "       [8.91282939e-01, 6.58573963e+00, 2.95916357e+00, 4.00479240e-01,\n",
       "        5.41989713e-02, 7.33503313e-03],\n",
       "       [8.06466153e-01, 5.95902365e+00, 3.27038152e+00, 4.42598009e-01,\n",
       "        5.98991269e-02, 8.10646530e-03],\n",
       "       [7.29720752e-01, 5.39194757e+00, 3.61433054e+00, 4.89146448e-01,\n",
       "        6.61987730e-02, 8.95902970e-03],\n",
       "       [6.60278641e-01, 4.87883592e+00, 3.99445300e+00, 5.40590429e-01,\n",
       "        7.31609588e-02, 9.90125908e-03],\n",
       "       [5.97444820e-01, 4.41455329e+00, 4.41455329e+00, 5.97444820e-01,\n",
       "        8.08553640e-02, 1.09425836e-02],\n",
       "       [5.40590429e-01, 3.99445300e+00, 4.87883592e+00, 6.60278641e-01,\n",
       "        8.93589969e-02, 1.20934251e-02],\n",
       "       [4.89146448e-01, 3.61433054e+00, 5.39194757e+00, 7.29720752e-01,\n",
       "        9.87569646e-02, 1.33653018e-02],\n",
       "       [4.42598009e-01, 3.27038152e+00, 5.95902365e+00, 8.06466153e-01,\n",
       "        1.09143325e-01, 1.47709428e-02],\n",
       "       [4.00479240e-01, 2.95916357e+00, 6.58573963e+00, 8.91282939e-01,\n",
       "        1.20622029e-01, 1.63244165e-02],\n",
       "       [3.62368601e-01, 2.67756192e+00, 7.27836792e+00, 9.85019983e-01,\n",
       "        1.33307958e-01, 1.80412703e-02],\n",
       "       [3.27884669e-01, 2.42275822e+00, 8.04384055e+00, 1.08861544e+00,\n",
       "        1.47328079e-01, 1.99386873e-02],\n",
       "       [2.96682318e-01, 2.19220229e+00, 8.88981865e+00, 1.20310612e+00,\n",
       "        1.62822708e-01, 2.20356573e-02],\n",
       "       [2.68449262e-01, 1.98358666e+00, 9.82476904e+00, 1.32963790e+00,\n",
       "        1.79946922e-01, 2.43531676e-02],\n",
       "       [2.42902937e-01, 1.79482343e+00, 1.08580490e+01, 1.46947714e+00,\n",
       "        1.98872105e-01, 2.69144126e-02],\n",
       "       [1.98872105e-01, 1.46947714e+00, 1.08580490e+01, 1.79482343e+00,\n",
       "        2.42902937e-01, 3.28733378e-02],\n",
       "       [1.79946922e-01, 1.32963790e+00, 9.82476904e+00, 1.98358666e+00,\n",
       "        2.68449262e-01, 3.63306569e-02],\n",
       "       [1.62822708e-01, 1.20310612e+00, 8.88981865e+00, 2.19220229e+00,\n",
       "        2.96682318e-01, 4.01515855e-02],\n",
       "       [1.47328079e-01, 1.08861544e+00, 8.04384055e+00, 2.42275822e+00,\n",
       "        3.27884669e-01, 4.43743646e-02],\n",
       "       [1.33307958e-01, 9.85019983e-01, 7.27836792e+00, 2.67756192e+00,\n",
       "        3.62368601e-01, 4.90412573e-02],\n",
       "       [1.20622029e-01, 8.91282939e-01, 6.58573963e+00, 2.95916357e+00,\n",
       "        4.00479240e-01, 5.41989713e-02],\n",
       "       [1.09143325e-01, 8.06466153e-01, 5.95902365e+00, 3.27038152e+00,\n",
       "        4.42598009e-01, 5.98991269e-02],\n",
       "       [9.87569646e-02, 7.29720752e-01, 5.39194757e+00, 3.61433054e+00,\n",
       "        4.89146448e-01, 6.61987730e-02],\n",
       "       [8.93589969e-02, 6.60278641e-01, 4.87883592e+00, 3.99445300e+00,\n",
       "        5.40590429e-01, 7.31609588e-02],\n",
       "       [8.08553640e-02, 5.97444820e-01, 4.41455329e+00, 4.41455329e+00,\n",
       "        5.97444820e-01, 8.08553640e-02],\n",
       "       [7.31609588e-02, 5.40590429e-01, 3.99445300e+00, 4.87883592e+00,\n",
       "        6.60278641e-01, 8.93589969e-02],\n",
       "       [6.61987730e-02, 4.89146448e-01, 3.61433054e+00, 5.39194757e+00,\n",
       "        7.29720752e-01, 9.87569646e-02],\n",
       "       [5.98991269e-02, 4.42598009e-01, 3.27038152e+00, 5.95902365e+00,\n",
       "        8.06466153e-01, 1.09143325e-01],\n",
       "       [5.41989713e-02, 4.00479240e-01, 2.95916357e+00, 6.58573963e+00,\n",
       "        8.91282939e-01, 1.20622029e-01],\n",
       "       [4.90412573e-02, 3.62368601e-01, 2.67756192e+00, 7.27836792e+00,\n",
       "        9.85019983e-01, 1.33307958e-01],\n",
       "       [4.43743646e-02, 3.27884669e-01, 2.42275822e+00, 8.04384055e+00,\n",
       "        1.08861544e+00, 1.47328079e-01],\n",
       "       [4.01515855e-02, 2.96682318e-01, 2.19220229e+00, 8.88981865e+00,\n",
       "        1.20310612e+00, 1.62822708e-01],\n",
       "       [3.63306569e-02, 2.68449262e-01, 1.98358666e+00, 9.82476904e+00,\n",
       "        1.32963790e+00, 1.79946922e-01],\n",
       "       [3.28733378e-02, 2.42902937e-01, 1.79482343e+00, 1.08580490e+01,\n",
       "        1.46947714e+00, 1.98872105e-01],\n",
       "       [2.69144126e-02, 1.98872105e-01, 1.46947714e+00, 1.08580490e+01,\n",
       "        1.79482343e+00, 2.42902937e-01],\n",
       "       [2.43531676e-02, 1.79946922e-01, 1.32963790e+00, 9.82476904e+00,\n",
       "        1.98358666e+00, 2.68449262e-01],\n",
       "       [2.20356573e-02, 1.62822708e-01, 1.20310612e+00, 8.88981865e+00,\n",
       "        2.19220229e+00, 2.96682318e-01],\n",
       "       [1.99386873e-02, 1.47328079e-01, 1.08861544e+00, 8.04384055e+00,\n",
       "        2.42275822e+00, 3.27884669e-01],\n",
       "       [1.80412703e-02, 1.33307958e-01, 9.85019983e-01, 7.27836792e+00,\n",
       "        2.67756192e+00, 3.62368601e-01],\n",
       "       [1.63244165e-02, 1.20622029e-01, 8.91282939e-01, 6.58573963e+00,\n",
       "        2.95916357e+00, 4.00479240e-01],\n",
       "       [1.47709428e-02, 1.09143325e-01, 8.06466153e-01, 5.95902365e+00,\n",
       "        3.27038152e+00, 4.42598009e-01],\n",
       "       [1.33653018e-02, 9.87569646e-02, 7.29720752e-01, 5.39194757e+00,\n",
       "        3.61433054e+00, 4.89146448e-01],\n",
       "       [1.20934251e-02, 8.93589969e-02, 6.60278641e-01, 4.87883592e+00,\n",
       "        3.99445300e+00, 5.40590429e-01],\n",
       "       [1.09425836e-02, 8.08553640e-02, 5.97444820e-01, 4.41455329e+00,\n",
       "        4.41455329e+00, 5.97444820e-01],\n",
       "       [9.90125908e-03, 7.31609588e-02, 5.40590429e-01, 3.99445300e+00,\n",
       "        4.87883592e+00, 6.60278641e-01],\n",
       "       [8.95902970e-03, 6.61987730e-02, 4.89146448e-01, 3.61433054e+00,\n",
       "        5.39194757e+00, 7.29720752e-01],\n",
       "       [8.10646530e-03, 5.98991269e-02, 4.42598009e-01, 3.27038152e+00,\n",
       "        5.95902365e+00, 8.06466153e-01],\n",
       "       [7.33503313e-03, 5.41989713e-02, 4.00479240e-01, 2.95916357e+00,\n",
       "        6.58573963e+00, 8.91282939e-01],\n",
       "       [6.63701244e-03, 4.90412573e-02, 3.62368601e-01, 2.67756192e+00,\n",
       "        7.27836792e+00, 9.85019983e-01],\n",
       "       [6.00541720e-03, 4.43743646e-02, 3.27884669e-01, 2.42275822e+00,\n",
       "        8.04384055e+00, 1.08861544e+00],\n",
       "       [5.43392619e-03, 4.01515855e-02, 2.96682318e-01, 2.19220229e+00,\n",
       "        8.88981865e+00, 1.20310612e+00],\n",
       "       [4.91681975e-03, 3.63306569e-02, 2.68449262e-01, 1.98358666e+00,\n",
       "        9.82476904e+00, 1.32963790e+00],\n",
       "       [4.44892249e-03, 3.28733378e-02, 2.42902937e-01, 1.79482343e+00,\n",
       "        1.08580490e+01, 1.46947714e+00],\n",
       "       [3.64246966e-03, 2.69144126e-02, 1.98872105e-01, 1.46947714e+00,\n",
       "        1.08580490e+01, 1.79482343e+00],\n",
       "       [3.29584284e-03, 2.43531676e-02, 1.79946922e-01, 1.32963790e+00,\n",
       "        9.82476904e+00, 1.98358666e+00],\n",
       "       [2.98220193e-03, 2.20356573e-02, 1.62822708e-01, 1.20310612e+00,\n",
       "        8.88981865e+00, 2.19220229e+00],\n",
       "       [2.69840789e-03, 1.99386873e-02, 1.47328079e-01, 1.08861544e+00,\n",
       "        8.04384055e+00, 2.42275822e+00],\n",
       "       [2.44162043e-03, 1.80412703e-02, 1.33307958e-01, 9.85019983e-01,\n",
       "        7.27836792e+00, 2.67756192e+00],\n",
       "       [2.20926952e-03, 1.63244165e-02, 1.20622029e-01, 8.91282939e-01,\n",
       "        6.58573963e+00, 2.95916357e+00],\n",
       "       [1.99902973e-03, 1.47709428e-02, 1.09143325e-01, 8.06466153e-01,\n",
       "        5.95902365e+00, 3.27038152e+00],\n",
       "       [1.80879690e-03, 1.33653018e-02, 9.87569646e-02, 7.29720752e-01,\n",
       "        5.39194757e+00, 3.61433054e+00],\n",
       "       [1.63666712e-03, 1.20934251e-02, 8.93589969e-02, 6.60278641e-01,\n",
       "        4.87883592e+00, 3.99445300e+00],\n",
       "       [1.48091765e-03, 1.09425836e-02, 8.08553640e-02, 5.97444820e-01,\n",
       "        4.41455329e+00, 4.41455329e+00],\n",
       "       [1.33998970e-03, 9.90125908e-03, 7.31609588e-02, 5.40590429e-01,\n",
       "        3.99445300e+00, 4.87883592e+00],\n",
       "       [1.21247282e-03, 8.95902970e-03, 6.61987730e-02, 4.89146448e-01,\n",
       "        3.61433054e+00, 5.39194757e+00],\n",
       "       [1.09709078e-03, 8.10646530e-03, 5.98991269e-02, 4.42598009e-01,\n",
       "        3.27038152e+00, 5.95902365e+00],\n",
       "       [9.92688787e-04, 7.33503313e-03, 5.41989713e-02, 4.00479240e-01,\n",
       "        2.95916357e+00, 6.58573963e+00],\n",
       "       [8.98221959e-04, 6.63701244e-03, 4.90412573e-02, 3.62368601e-01,\n",
       "        2.67756192e+00, 7.27836792e+00],\n",
       "       [8.12744838e-04, 6.00541720e-03, 4.43743646e-02, 3.27884669e-01,\n",
       "        2.42275822e+00, 8.04384055e+00],\n",
       "       [7.35401941e-04, 5.43392619e-03, 4.01515855e-02, 2.96682318e-01,\n",
       "        2.19220229e+00, 8.88981865e+00],\n",
       "       [6.65419193e-04, 4.91681975e-03, 3.63306569e-02, 2.68449262e-01,\n",
       "        1.98358666e+00, 9.82476904e+00],\n",
       "       [6.02096185e-04, 4.44892249e-03, 3.28733378e-02, 2.42902937e-01,\n",
       "        1.79482343e+00, 1.08580490e+01]])"
      ]
     },
     "execution_count": 17,
     "metadata": {},
     "output_type": "execute_result"
    }
   ],
   "source": [
    "# entre et les observations et les inconnues \n",
    "covariance(mat_distance(unknown,observation))"
   ]
  },
  {
   "cell_type": "markdown",
   "metadata": {},
   "source": [
    "### 5. Calcul de l’espérance conditionnelle des composantes non observées connaissant les observations "
   ]
  },
  {
   "cell_type": "markdown",
   "metadata": {},
   "source": [
    "$\\text{On note } Inc \\text{ le vecteur aléatoire des inconnues et } Obs \\text{ le vecteur aléatoire des observations.}\\\\\n",
    "\\text{D'après le cours, l'espérance conditionnelle de } Inc \\text{ sachant } Obs \\text{ est la variable aléatoire: }\\\\\n",
    "\\mathbb{E}(Inc|Obs)=\\mathbb{E}(Inc)+Cov(Inc,Obs)\\,Cov(Obs,Obs)^{-1}(Obs-\\mathbb{E}(Obs))$"
   ]
  },
  {
   "cell_type": "code",
   "execution_count": 18,
   "metadata": {},
   "outputs": [
    {
     "name": "stdout",
     "output_type": "stream",
     "text": [
      "[ -0.46688335  -0.88839774  -1.26876184  -1.61178245  -1.92089264\n",
      "  -2.19918609  -2.44944805  -2.67418323  -2.87564085  -3.05583718\n",
      "  -3.21657567  -3.35946505  -3.4859354   -3.59725249  -3.69453041\n",
      "  -3.77874275  -3.85073233  -3.91121966  -3.96081011  -4.31432093\n",
      "  -4.62177936  -4.92545243  -5.2283794   -5.53359206  -5.8441451\n",
      "  -6.16314662  -6.49378931  -6.83938234  -7.20338453  -7.58943893\n",
      "  -8.00140931  -8.4434188   -8.91989118  -9.43559515  -9.99569205\n",
      " -10.60578751 -11.27198758 -12.00095981 -11.91810571 -11.10545015\n",
      " -10.35389999  -9.65593346  -9.00456508  -8.39327573  -7.81594742\n",
      "  -7.26680206  -6.74034362  -6.23130312  -5.73458592  -5.2452207\n",
      "  -4.75830973  -4.26897984  -3.77233366  -3.26340058  -2.73708703\n",
      "  -2.18812549  -1.61102176  -1.43702815  -1.83839689  -2.20812324\n",
      "  -2.54990754  -2.8671705   -3.16308739  -3.44061983  -3.70254547\n",
      "  -3.95148576  -4.18993216  -4.42027113  -4.64480797  -4.86578994\n",
      "  -5.08542869  -5.30592243  -5.52947795  -5.75833267  -5.99477703\n",
      "  -6.24117745  -6.21355942  -5.93926455  -5.67437016  -5.41622509\n",
      "  -5.16224574  -4.9098902   -4.65663281  -4.39993889  -4.13723936\n",
      "  -3.86590502  -3.58322028  -3.28635594  -2.97234087  -2.6380323\n",
      "  -2.28008437  -1.89491461  -1.47866811  -1.02717893  -0.53592843]\n"
     ]
    }
   ],
   "source": [
    "esp_obs=np.array([mu for k in range(depth.shape[0])])\n",
    "esp_inc=np.array([mu for k in range(len(unknown_indexes))])\n",
    "cov_inc_obs=covariance(mat_distance(unknown,observation))\n",
    "cov_obs=covariance(mat_distance(observation,observation))\n",
    "obs=depth\n",
    "# On utilise la formule précédente \n",
    "esp_inc_sachant_obs=esp_inc+cov_inc_obs.dot(np.linalg.inv(cov_obs)).dot(depth-esp_obs)\n",
    "print(esp_inc_sachant_obs)"
   ]
  },
  {
   "cell_type": "code",
   "execution_count": 19,
   "metadata": {},
   "outputs": [
    {
     "data": {
      "image/png": "[encoded data removed]",
      "text/plain": [
       "<Figure size 432x288 with 1 Axes>"
      ]
     },
     "metadata": {
      "needs_background": "light"
     },
     "output_type": "display_data"
    }
   ],
   "source": [
    "# Représentation graphique \n",
    "plt.plot(unknown,esp_inc_sachant_obs)\n",
    "plt.xlabel('Position des points non observés')\n",
    "plt.ylabel('Espérance conditionnelle')\n",
    "plt.show()"
   ]
  },
  {
   "cell_type": "markdown",
   "metadata": {},
   "source": [
    "### 6. Calcul de la matrice de variance conditionnelle "
   ]
  },
  {
   "cell_type": "markdown",
   "metadata": {},
   "source": [
    "$\\text{D'après le cours, la matrice de variance conditionnelle de } Inc \\text{ sachant } Obs \\text { est : }\\\\\n",
    "Var\\,(Inc|Obs)=Cov(Inc,Inc) - Cov(Inc,Obs)\\,Cov(Obs,Obs)^{-1}\\,Cov(Obs,Inc)$"
   ]
  },
  {
   "cell_type": "code",
   "execution_count": 20,
   "metadata": {},
   "outputs": [
    {
     "name": "stdout",
     "output_type": "stream",
     "text": [
      "[[ 2.16624554e+00  1.95016959e+00  1.75361159e+00 ...  6.50521303e-19\n",
      "   1.51788304e-18  5.42101086e-19]\n",
      " [ 1.95016959e+00  3.91985713e+00  3.52477392e+00 ...  2.16840434e-19\n",
      "   1.19262239e-18  1.40946282e-18]\n",
      " [ 1.75361159e+00  3.52477392e+00  5.33121337e+00 ... -8.67361738e-19\n",
      "  -1.08420217e-19  2.16840434e-19]\n",
      " ...\n",
      " [ 1.08420217e-19 -2.16840434e-19 -1.08420217e-18 ...  5.33121337e+00\n",
      "   3.52477392e+00  1.75361159e+00]\n",
      " [ 7.58941521e-19  4.33680869e-19 -4.33680869e-19 ...  3.52477392e+00\n",
      "   3.91985713e+00  1.95016959e+00]\n",
      " [ 0.00000000e+00  9.75781955e-19  1.08420217e-19 ...  1.75361159e+00\n",
      "   1.95016959e+00  2.16624554e+00]]\n"
     ]
    }
   ],
   "source": [
    "cov_obs_inc=covariance(mat_distance(observation,unknown))\n",
    "cov_inc=covariance(mat_distance(unknown,unknown))\n",
    "# Avec la formule précédente,on calcule la variance conditionnelle des points inconnus, \n",
    "var_inc_sachant_obs=cov_inc-cov_inc_obs.dot(np.linalg.inv(cov_obs)).dot(cov_obs_inc)\n",
    "print(var_inc_sachant_obs)"
   ]
  },
  {
   "cell_type": "code",
   "execution_count": 21,
   "metadata": {},
   "outputs": [
    {
     "ename": "NameError",
     "evalue": "name 'var_tot' is not defined",
     "output_type": "error",
     "traceback": [
      "\u001b[1;31m---------------------------------------------------------------------------\u001b[0m",
      "\u001b[1;31mNameError\u001b[0m                                 Traceback (most recent call last)",
      "\u001b[1;32m<ipython-input-21-1151b06816ba>\u001b[0m in \u001b[0;36m<module>\u001b[1;34m\u001b[0m\n\u001b[0;32m      1\u001b[0m \u001b[1;31m# Représentation de la diagonale en fonction de la position\u001b[0m\u001b[1;33m\u001b[0m\u001b[1;33m\u001b[0m\u001b[1;33m\u001b[0m\u001b[0m\n\u001b[0;32m      2\u001b[0m \u001b[0mdiagonale\u001b[0m\u001b[1;33m=\u001b[0m\u001b[0mnp\u001b[0m\u001b[1;33m.\u001b[0m\u001b[0marray\u001b[0m\u001b[1;33m(\u001b[0m\u001b[1;33m[\u001b[0m\u001b[0mvar_inc_sachant_obs\u001b[0m\u001b[1;33m[\u001b[0m\u001b[0mi\u001b[0m\u001b[1;33m]\u001b[0m\u001b[1;33m[\u001b[0m\u001b[0mi\u001b[0m\u001b[1;33m]\u001b[0m \u001b[1;32mfor\u001b[0m \u001b[0mi\u001b[0m \u001b[1;32min\u001b[0m \u001b[0mrange\u001b[0m\u001b[1;33m(\u001b[0m\u001b[0mlen\u001b[0m\u001b[1;33m(\u001b[0m\u001b[0mvar_inc_sachant_obs\u001b[0m\u001b[1;33m)\u001b[0m\u001b[1;33m)\u001b[0m\u001b[1;33m]\u001b[0m\u001b[1;33m)\u001b[0m\u001b[1;33m\u001b[0m\u001b[1;33m\u001b[0m\u001b[0m\n\u001b[1;32m----> 3\u001b[1;33m \u001b[0mplt\u001b[0m\u001b[1;33m.\u001b[0m\u001b[0mplot\u001b[0m\u001b[1;33m(\u001b[0m\u001b[0mdiscretization\u001b[0m\u001b[1;33m,\u001b[0m \u001b[0mvar_tot\u001b[0m\u001b[1;33m)\u001b[0m\u001b[1;33m\u001b[0m\u001b[1;33m\u001b[0m\u001b[0m\n\u001b[0m\u001b[0;32m      4\u001b[0m \u001b[1;31m# On rajoute les points observés dont la variance conditionnelle est nulle,\u001b[0m\u001b[1;33m\u001b[0m\u001b[1;33m\u001b[0m\u001b[1;33m\u001b[0m\u001b[0m\n\u001b[0;32m      5\u001b[0m \u001b[0mvar_tot\u001b[0m\u001b[1;33m=\u001b[0m\u001b[1;33m[\u001b[0m\u001b[1;33m(\u001b[0m\u001b[1;36m0\u001b[0m \u001b[1;32mif\u001b[0m \u001b[0mi\u001b[0m\u001b[1;33m%\u001b[0m\u001b[1;36m20\u001b[0m \u001b[1;33m==\u001b[0m \u001b[1;36m0\u001b[0m \u001b[1;32melse\u001b[0m \u001b[0mdiagonale\u001b[0m\u001b[1;33m[\u001b[0m\u001b[0mi\u001b[0m \u001b[1;33m-\u001b[0m \u001b[1;33m(\u001b[0m\u001b[0mi\u001b[0m\u001b[1;33m//\u001b[0m\u001b[1;36m20\u001b[0m \u001b[1;33m+\u001b[0m \u001b[1;36m1\u001b[0m\u001b[1;33m)\u001b[0m\u001b[1;33m]\u001b[0m\u001b[1;33m)\u001b[0m \u001b[1;32mfor\u001b[0m \u001b[0mi\u001b[0m \u001b[1;32min\u001b[0m \u001b[0mrange\u001b[0m \u001b[1;33m(\u001b[0m\u001b[0mN\u001b[0m\u001b[1;33m)\u001b[0m\u001b[1;33m]\u001b[0m\u001b[1;33m\u001b[0m\u001b[1;33m\u001b[0m\u001b[0m\n",
      "\u001b[1;31mNameError\u001b[0m: name 'var_tot' is not defined"
     ]
    }
   ],
   "source": [
    "# Représentation de la diagonale en fonction de la position \n",
    "diagonale=np.array([var_inc_sachant_obs[i][i] for i in range(len(var_inc_sachant_obs))])\n",
    "plt.plot(discretization, var_tot)\n",
    "# On rajoute les points observés dont la variance conditionnelle est nulle, \n",
    "var_tot=[(0 if i%20 == 0 else diagonale[i - (i//20 + 1)]) for i in range (N)]\n",
    "plt.xlabel('Position des points')\n",
    "plt.ylabel('Variance conditionnelle')\n",
    "plt.show()"
   ]
  },
  {
   "cell_type": "markdown",
   "metadata": {},
   "source": [
    "### 7. Simulation conditionnelle "
   ]
  },
  {
   "cell_type": "code",
   "execution_count": 38,
   "metadata": {},
   "outputs": [],
   "source": [
    "# On utilse la méthode de Box-Muller \n",
    "def boxMuller():\n",
    "    Y=np.zeros(len(unknown_indexes))\n",
    "    U=np.zeros(len(unknown_indexes))\n",
    "    V=np.zeros(len(unknown_indexes))\n",
    "    for k in range(len(unknown_indexes)):\n",
    "        U[k] = (random.random()-random.random()+1)/2 # On veut générer un nombre aléatoire dans ]0,1[ et non [0,1[\n",
    "        V[k] = (random.random()-random.random()+1)/2 \n",
    "    Y = np.sqrt(-2*np.log(U))*np.cos(2*np.pi*V)\n",
    "    R = np.linalg.cholesky(var_inc_sachant_obs)\n",
    "    Z= (mu + R.dot(Y)).tolist()\n",
    "    Z_simulation = [0] + Z[0:19] + [-4] + Z[19:38] + [-12.8] + Z[38:57] + [-1] + Z[57:76] + [-6.5] + Z[76:95] + [0]\n",
    "    return Z_simulation \n"
   ]
  },
  {
   "cell_type": "code",
   "execution_count": 39,
   "metadata": {},
   "outputs": [
    {
     "ename": "NameError",
     "evalue": "name 'Z' is not defined",
     "output_type": "error",
     "traceback": [
      "\u001b[1;31m---------------------------------------------------------------------------\u001b[0m",
      "\u001b[1;31mNameError\u001b[0m                                 Traceback (most recent call last)",
      "\u001b[1;32m<ipython-input-39-3df561904524>\u001b[0m in \u001b[0;36m<module>\u001b[1;34m\u001b[0m\n\u001b[0;32m      1\u001b[0m \u001b[1;31m# Représentation graphique\u001b[0m\u001b[1;33m\u001b[0m\u001b[1;33m\u001b[0m\u001b[1;33m\u001b[0m\u001b[0m\n\u001b[1;32m----> 2\u001b[1;33m \u001b[0mplt\u001b[0m\u001b[1;33m.\u001b[0m\u001b[0mplot\u001b[0m\u001b[1;33m(\u001b[0m\u001b[0mdiscretization\u001b[0m\u001b[1;33m,\u001b[0m \u001b[0mZ\u001b[0m\u001b[1;33m,\u001b[0m \u001b[0mlabel\u001b[0m\u001b[1;33m=\u001b[0m\u001b[1;34m\"Points simulés\"\u001b[0m\u001b[1;33m)\u001b[0m\u001b[1;33m\u001b[0m\u001b[1;33m\u001b[0m\u001b[0m\n\u001b[0m\u001b[0;32m      3\u001b[0m \u001b[0mplt\u001b[0m\u001b[1;33m.\u001b[0m\u001b[0mplot\u001b[0m\u001b[1;33m(\u001b[0m\u001b[0mobservation\u001b[0m\u001b[1;33m,\u001b[0m \u001b[0mdepth\u001b[0m\u001b[1;33m,\u001b[0m \u001b[1;34m'rx'\u001b[0m\u001b[1;33m,\u001b[0m \u001b[0mlabel\u001b[0m\u001b[1;33m=\u001b[0m\u001b[1;34m'Points observés'\u001b[0m\u001b[1;33m)\u001b[0m\u001b[1;33m\u001b[0m\u001b[1;33m\u001b[0m\u001b[0m\n\u001b[0;32m      4\u001b[0m \u001b[0mplt\u001b[0m\u001b[1;33m.\u001b[0m\u001b[0mplot\u001b[0m\u001b[1;33m(\u001b[0m\u001b[0munknown\u001b[0m\u001b[1;33m,\u001b[0m\u001b[0mesp_inc_sachant_obs\u001b[0m\u001b[1;33m,\u001b[0m \u001b[0mlabel\u001b[0m\u001b[1;33m=\u001b[0m\u001b[1;34m'Esperance conditionnelle'\u001b[0m\u001b[1;33m)\u001b[0m\u001b[1;33m\u001b[0m\u001b[1;33m\u001b[0m\u001b[0m\n\u001b[0;32m      5\u001b[0m \u001b[0mplt\u001b[0m\u001b[1;33m.\u001b[0m\u001b[0mlegend\u001b[0m\u001b[1;33m(\u001b[0m\u001b[1;33m)\u001b[0m\u001b[1;33m\u001b[0m\u001b[1;33m\u001b[0m\u001b[0m\n",
      "\u001b[1;31mNameError\u001b[0m: name 'Z' is not defined"
     ]
    }
   ],
   "source": [
    "# Représentation graphique \n",
    "plt.plot(discretization, Z, label=\"Points simulés\")\n",
    "plt.plot(observation, depth, 'rx', label='Points observés')\n",
    "plt.plot(unknown,esp_inc_sachant_obs, label='Esperance conditionnelle')\n",
    "plt.legend()\n",
    "plt.show()"
   ]
  },
  {
   "cell_type": "markdown",
   "metadata": {},
   "source": []
  },
  {
   "cell_type": "markdown",
   "metadata": {},
   "source": [
    "### 8. Calcul de la longueur du câble "
   ]
  },
  {
   "cell_type": "code",
   "execution_count": 40,
   "metadata": {},
   "outputs": [],
   "source": [
    "def long_cable(vect_profondeur, pas) :\n",
    "    L = 0\n",
    "    l= vect_profondeur.shape[0]\n",
    "    \n",
    "    for i in range(1,l) :\n",
    "        L += np.sqrt(pas**2 + (vect_profondeur[i] - vect_profondeur[i-1])**2)\n",
    "    return L"
   ]
  },
  {
   "cell_type": "markdown",
   "metadata": {},
   "source": [
    "### 9. Calcul longueur de câble pour 100 simulations "
   ]
  },
  {
   "cell_type": "code",
   "execution_count": 41,
   "metadata": {},
   "outputs": [
    {
     "ename": "AttributeError",
     "evalue": "'list' object has no attribute 'shape'",
     "output_type": "error",
     "traceback": [
      "\u001b[1;31m---------------------------------------------------------------------------\u001b[0m",
      "\u001b[1;31mAttributeError\u001b[0m                            Traceback (most recent call last)",
      "\u001b[1;32m<ipython-input-41-3246d9e8b5d6>\u001b[0m in \u001b[0;36m<module>\u001b[1;34m\u001b[0m\n\u001b[0;32m      1\u001b[0m \u001b[0mlongueurs\u001b[0m\u001b[1;33m=\u001b[0m\u001b[1;33m[\u001b[0m\u001b[1;33m]\u001b[0m\u001b[1;33m\u001b[0m\u001b[1;33m\u001b[0m\u001b[0m\n\u001b[0;32m      2\u001b[0m \u001b[1;32mfor\u001b[0m \u001b[0mi\u001b[0m \u001b[1;32min\u001b[0m \u001b[0mrange\u001b[0m\u001b[1;33m(\u001b[0m\u001b[1;36m100\u001b[0m\u001b[1;33m)\u001b[0m\u001b[1;33m:\u001b[0m\u001b[1;33m\u001b[0m\u001b[1;33m\u001b[0m\u001b[0m\n\u001b[1;32m----> 3\u001b[1;33m     \u001b[0ml\u001b[0m\u001b[1;33m=\u001b[0m\u001b[0mlong_cable\u001b[0m\u001b[1;33m(\u001b[0m\u001b[0mboxMuller\u001b[0m\u001b[1;33m(\u001b[0m\u001b[1;33m)\u001b[0m\u001b[1;33m,\u001b[0m\u001b[0mDelta\u001b[0m\u001b[1;33m)\u001b[0m\u001b[1;33m\u001b[0m\u001b[1;33m\u001b[0m\u001b[0m\n\u001b[0m\u001b[0;32m      4\u001b[0m     \u001b[0mlongueurs\u001b[0m\u001b[1;33m.\u001b[0m\u001b[0mappend\u001b[0m\u001b[1;33m(\u001b[0m\u001b[0ml\u001b[0m\u001b[1;33m)\u001b[0m\u001b[1;33m\u001b[0m\u001b[1;33m\u001b[0m\u001b[0m\n\u001b[0;32m      5\u001b[0m \u001b[0mprint\u001b[0m\u001b[1;33m(\u001b[0m\u001b[1;34mf\"L'espérance conditionnelle (estimée) de la longueur vaut: {sum(longeurs)/100}\"\u001b[0m\u001b[1;33m)\u001b[0m\u001b[1;33m\u001b[0m\u001b[1;33m\u001b[0m\u001b[0m\n",
      "\u001b[1;32m<ipython-input-40-2e99ea5f005d>\u001b[0m in \u001b[0;36mlong_cable\u001b[1;34m(vect_profondeur, pas)\u001b[0m\n\u001b[0;32m      1\u001b[0m \u001b[1;32mdef\u001b[0m \u001b[0mlong_cable\u001b[0m\u001b[1;33m(\u001b[0m\u001b[0mvect_profondeur\u001b[0m\u001b[1;33m,\u001b[0m \u001b[0mpas\u001b[0m\u001b[1;33m)\u001b[0m \u001b[1;33m:\u001b[0m\u001b[1;33m\u001b[0m\u001b[1;33m\u001b[0m\u001b[0m\n\u001b[0;32m      2\u001b[0m     \u001b[0mL\u001b[0m \u001b[1;33m=\u001b[0m \u001b[1;36m0\u001b[0m\u001b[1;33m\u001b[0m\u001b[1;33m\u001b[0m\u001b[0m\n\u001b[1;32m----> 3\u001b[1;33m     \u001b[0ml\u001b[0m\u001b[1;33m=\u001b[0m \u001b[0mvect_profondeur\u001b[0m\u001b[1;33m.\u001b[0m\u001b[0mshape\u001b[0m\u001b[1;33m[\u001b[0m\u001b[1;36m0\u001b[0m\u001b[1;33m]\u001b[0m\u001b[1;33m\u001b[0m\u001b[1;33m\u001b[0m\u001b[0m\n\u001b[0m\u001b[0;32m      4\u001b[0m \u001b[1;33m\u001b[0m\u001b[0m\n\u001b[0;32m      5\u001b[0m     \u001b[1;32mfor\u001b[0m \u001b[0mi\u001b[0m \u001b[1;32min\u001b[0m \u001b[0mrange\u001b[0m\u001b[1;33m(\u001b[0m\u001b[1;36m1\u001b[0m\u001b[1;33m,\u001b[0m\u001b[0ml\u001b[0m\u001b[1;33m)\u001b[0m \u001b[1;33m:\u001b[0m\u001b[1;33m\u001b[0m\u001b[1;33m\u001b[0m\u001b[0m\n",
      "\u001b[1;31mAttributeError\u001b[0m: 'list' object has no attribute 'shape'"
     ]
    }
   ],
   "source": [
    "longueurs=[]\n",
    "for i in range(100):\n",
    "    l=long_cable(boxMuller(),Delta)\n",
    "    longueurs.append(l)\n",
    "print(f\"L'espérance conditionnelle (estimée) de la longueur vaut: {sum(longeurs)/100}\")\n",
    "\n",
    "\n",
    "print(f\"La longueur de l'espérance conditionnelle vaut:{long_cable(esp_inc_sachant_obs,Delta)}\")\n"
   ]
  },
  {
   "cell_type": "markdown",
   "metadata": {},
   "source": [
    "On remarque que le longueur de l'espérance conditionnelle est plus petite que l'espérance conditionnelle de la longueur. "
   ]
  },
  {
   "cell_type": "markdown",
   "metadata": {},
   "source": [
    "### 10. Représentation de la suite $M_{n}$ des moyennes des longueurs de câble "
   ]
  },
  {
   "cell_type": "code",
   "execution_count": null,
   "metadata": {},
   "outputs": [],
   "source": [
    "les_moy=[]\n",
    "les_simul=np.arange(1,201) #doute sur l'arange \n",
    "for n in range(1,201):\n",
    "    longueurs=[]\n",
    "    for i in range(n):\n",
    "        l=long_cable(boxMuller(),Delta)\n",
    "        longueurs.append(l)\n",
    "    les_moy.append(sum(longueurs)/n)\n",
    "\n",
    "plt.plot(les_simul,les_moy)\n",
    "plt.xlabel(\"Nombre de simulations\")\n",
    "plt.ylabel(\"Moyennes des longueurs de cable\")\n",
    "plt.show()\n",
    "\n",
    "    "
   ]
  },
  {
   "cell_type": "markdown",
   "metadata": {},
   "source": [
    "Commentaire?"
   ]
  }
 ],
 "metadata": {
  "kernelspec": {
   "display_name": "Python 3",
   "language": "python",
   "name": "python3"
  },
  "language_info": {
   "codemirror_mode": {
    "name": "ipython",
    "version": 3
   },
   "file_extension": ".py",
   "mimetype": "text/x-python",
   "name": "python",
   "nbconvert_exporter": "python",
   "pygments_lexer": "ipython3",
   "version": "3.7.4"
  }
 },
 "nbformat": 4,
 "nbformat_minor": 2
}
